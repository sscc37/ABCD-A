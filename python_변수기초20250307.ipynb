{
  "nbformat": 4,
  "nbformat_minor": 0,
  "metadata": {
    "colab": {
      "provenance": [],
      "authorship_tag": "ABX9TyOb2PgbCDpqzXZlgSfrd6HP",
      "include_colab_link": true
    },
    "kernelspec": {
      "name": "python3",
      "display_name": "Python 3"
    },
    "language_info": {
      "name": "python"
    }
  },
  "cells": [
    {
      "cell_type": "markdown",
      "metadata": {
        "id": "view-in-github",
        "colab_type": "text"
      },
      "source": [
        "<a href=\"https://colab.research.google.com/github/sscc37/ABCD-A/blob/20250307-%EA%B8%B0%EC%B4%88%EB%B3%80%EC%88%98/python_%EB%B3%80%EC%88%98%EA%B8%B0%EC%B4%8820250307.ipynb\" target=\"_parent\"><img src=\"https://colab.research.google.com/assets/colab-badge.svg\" alt=\"Open In Colab\"/></a>"
      ]
    },
    {
      "cell_type": "code",
      "execution_count": 3,
      "metadata": {
        "colab": {
          "base_uri": "https://localhost:8080/"
        },
        "id": "yh-8P4h3ER2_",
        "outputId": "8b51f8e3-b045-4318-d02e-d267b75f9885"
      },
      "outputs": [
        {
          "output_type": "stream",
          "name": "stdout",
          "text": [
            "pig\n",
            "dad\n",
            "10000\n",
            "pigdad\n",
            "pigdad\n"
          ]
        }
      ],
      "source": [
        "watch=10000\n",
        "a='pig'\n",
        "b='dad'\n",
        "\n",
        "\n",
        "print(a)\n",
        "print(b)\n",
        "print(watch)\n",
        "print(a+b)\n",
        "print(a+''+b)\n",
        "\n",
        "\n",
        "\n",
        "\n",
        "\n",
        "\n",
        "\n",
        "\n"
      ]
    },
    {
      "cell_type": "code",
      "source": [
        "\n",
        "a=10\n",
        "a,b=(10,20)\n",
        "[a,b] = [10,20]\n",
        "a=b=10\n",
        "a = None\n",
        "\n",
        "\n",
        "a=10\n",
        "b=2000\n",
        "a,b= b,a\n",
        "print(a,b)\n",
        "\n",
        "\n",
        "aa = [10, 20, 30]\n",
        "bb = aa\n",
        "aa[0] = 200\n",
        "print(bb)\n",
        "\n",
        "\n",
        "print(\"Hello word\")\n",
        "print(1)\n",
        "\n",
        "a = 3\n",
        "\n",
        "print(a)\n",
        "\n"
      ],
      "metadata": {
        "colab": {
          "base_uri": "https://localhost:8080/"
        },
        "id": "_dJBI17w30B_",
        "outputId": "06826240-83ec-4f50-b5b0-3fb662e9a79b"
      },
      "execution_count": 13,
      "outputs": [
        {
          "output_type": "stream",
          "name": "stdout",
          "text": [
            "2000 10\n",
            "[200, 20, 30]\n",
            "Hello word\n",
            "1\n",
            "3\n"
          ]
        }
      ]
    },
    {
      "cell_type": "code",
      "source": [
        "a = 10\n",
        "print(\"a\" + str(a))\n",
        "print(\"a=\", a)\n",
        "print(\"a={}\".format(a))\n",
        ""
      ],
      "metadata": {
        "colab": {
          "base_uri": "https://localhost:8080/"
        },
        "id": "7g12Q7bs30kb",
        "outputId": "5771792c-0f3f-43b7-b3f7-ed217914a0ff"
      },
      "execution_count": 14,
      "outputs": [
        {
          "output_type": "stream",
          "name": "stdout",
          "text": [
            "a10\n",
            "a= 10\n",
            "a=10\n"
          ]
        }
      ]
    },
    {
      "cell_type": "code",
      "source": [
        "#dat1\n",
        "a = [10, 20, 30]\n",
        "b = 1\n",
        "c = 2\n",
        "print(a)\n",
        "print(\"a={}\".format(a))\n",
        "print(\"b={}\".format(b))\n",
        "print(\"a={}, b={}, c{}\".format(a, b, c))\n",
        ""
      ],
      "metadata": {
        "colab": {
          "base_uri": "https://localhost:8080/"
        },
        "id": "B-TQAhhC30t6",
        "outputId": "6b660631-c0e0-46fb-a601-2aa10eee3b3b"
      },
      "execution_count": 15,
      "outputs": [
        {
          "output_type": "stream",
          "name": "stdout",
          "text": [
            "[10, 20, 30]\n",
            "a=[10, 20, 30]\n",
            "b=1\n",
            "a=[10, 20, 30], b=1, c2\n"
          ]
        }
      ]
    }
  ]
}